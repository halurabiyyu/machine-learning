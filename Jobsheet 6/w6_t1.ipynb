{
 "cells": [
  {
   "cell_type": "code",
   "execution_count": 18,
   "metadata": {},
   "outputs": [],
   "source": [
    "import pandas as pd\n",
    "from sklearn.model_selection import train_test_split\n",
    "from sklearn.tree import DecisionTreeClassifier\n",
    "from sklearn.ensemble import RandomForestClassifier\n",
    "from sklearn.model_selection import GridSearchCV\n",
    "import numpy as np\n",
    "from sklearn.metrics import accuracy_score, classification_report, confusion_matrix"
   ]
  },
  {
   "cell_type": "code",
   "execution_count": 19,
   "metadata": {},
   "outputs": [
    {
     "name": "stdout",
     "output_type": "stream",
     "text": [
      "class                        0\n",
      "cap-shape                    0\n",
      "cap-surface                  0\n",
      "cap-color                    0\n",
      "bruises                      0\n",
      "odor                         0\n",
      "gill-attachment              0\n",
      "gill-spacing                 0\n",
      "gill-size                    0\n",
      "gill-color                   0\n",
      "stalk-shape                  0\n",
      "stalk-root                   0\n",
      "stalk-surface-above-ring     0\n",
      "stalk-surface-below-ring     0\n",
      "stalk-color-above-ring       0\n",
      "stalk-color-below-ring       0\n",
      "veil-type                    0\n",
      "veil-color                   0\n",
      "ring-number                  0\n",
      "ring-type                    0\n",
      "spore-print-color            0\n",
      "population                   0\n",
      "habitat                      0\n",
      "dtype: int64\n"
     ]
    }
   ],
   "source": [
    "# Load dataset\n",
    "df = pd.read_csv('mushrooms.csv')\n",
    "df.head()\n",
    "print(df.isnull().sum())"
   ]
  },
  {
   "cell_type": "code",
   "execution_count": 20,
   "metadata": {},
   "outputs": [],
   "source": [
    "# Menghilangkan nilai kosong di dataframe\n",
    "df = df.replace('?', np.nan)\n",
    "df = df.dropna()\n",
    "\n",
    "# Mengkonversi nilai string menjadi numerik\n",
    "from sklearn.preprocessing import LabelEncoder\n",
    "le = LabelEncoder()\n",
    "\n",
    "for col in df.columns:\n",
    "    if df[col].dtype == 'object':\n",
    "        df[col] = le.fit_transform(df[col])"
   ]
  },
  {
   "cell_type": "code",
   "execution_count": 21,
   "metadata": {},
   "outputs": [
    {
     "name": "stdout",
     "output_type": "stream",
     "text": [
      "Index(['class ', 'cap-shape ', 'cap-surface ', 'cap-color ', 'bruises ',\n",
      "       'odor ', 'gill-attachment ', 'gill-spacing ', 'gill-size ',\n",
      "       'gill-color ', 'stalk-shape ', 'stalk-root ',\n",
      "       'stalk-surface-above-ring ', 'stalk-surface-below-ring ',\n",
      "       'stalk-color-above-ring ', 'stalk-color-below-ring ', 'veil-type ',\n",
      "       'veil-color ', 'ring-number ', 'ring-type ', 'spore-print-color ',\n",
      "       'population ', 'habitat'],\n",
      "      dtype='object')\n"
     ]
    }
   ],
   "source": [
    "# Verify column names\n",
    "print(df.columns)\n",
    "\n",
    "# Ensure 'class' column exists\n",
    "if 'class ' in df.columns:\n",
    "    X = df.drop('class ', axis=1)\n",
    "    y = df['class ']\n",
    "else:\n",
    "    print(\"Column 'class' not found in dataframe.\")\n"
   ]
  },
  {
   "cell_type": "code",
   "execution_count": 22,
   "metadata": {},
   "outputs": [],
   "source": [
    "# Pisahkan data menjadi training set dan testing set\n",
    "X_train, X_test, y_train, y_test = train_test_split(X, y, test_size=0.2, random_state=42)\n",
    "\n",
    "# Definisikan parameter untuk Decision Tree\n",
    "param_dt = {\n",
    "    'criterion': ['gini', 'entropy'],\n",
    "    'max_depth': [None, 5, 10, 15],\n",
    "    'min_samples_split': [2, 5, 10],\n",
    "    'min_samples_leaf': [1, 5, 10]\n",
    "}\n",
    "\n",
    "# Definisikan parameter untuk RandomForest\n",
    "param_rf = {\n",
    "    'n_estimators': [10, 50, 100, 200],\n",
    "    'criterion': ['gini', 'entropy'],\n",
    "    'max_depth': [None, 5, 10, 15],\n",
    "    'min_samples_split': [2, 5, 10],\n",
    "    'min_samples_leaf': [1, 5, 10]\n",
    "}"
   ]
  },
  {
   "cell_type": "code",
   "execution_count": 23,
   "metadata": {},
   "outputs": [
    {
     "name": "stdout",
     "output_type": "stream",
     "text": [
      "Decision Tree:\n",
      "Akurasi: 1.0\n",
      "Laporan klasifikasi:\n",
      "              precision    recall  f1-score   support\n",
      "\n",
      "           0       1.00      1.00      1.00       843\n",
      "           1       1.00      1.00      1.00       782\n",
      "\n",
      "    accuracy                           1.00      1625\n",
      "   macro avg       1.00      1.00      1.00      1625\n",
      "weighted avg       1.00      1.00      1.00      1625\n",
      "\n",
      "Matriks konfusi:\n",
      "[[843   0]\n",
      " [  0 782]]\n",
      "\n",
      "Random Forest:\n",
      "Akurasi: 1.0\n",
      "Laporan klasifikasi:\n",
      "              precision    recall  f1-score   support\n",
      "\n",
      "           0       1.00      1.00      1.00       843\n",
      "           1       1.00      1.00      1.00       782\n",
      "\n",
      "    accuracy                           1.00      1625\n",
      "   macro avg       1.00      1.00      1.00      1625\n",
      "weighted avg       1.00      1.00      1.00      1625\n",
      "\n",
      "Matriks konfusi:\n",
      "[[843   0]\n",
      " [  0 782]]\n"
     ]
    }
   ],
   "source": [
    "# Lakukan tuning hyperparameter untuk Decision Tree\n",
    "grid_dt = GridSearchCV(DecisionTreeClassifier(), param_dt, cv=5, scoring='accuracy')\n",
    "grid_dt.fit(X_train, y_train)\n",
    "\n",
    "# Lakukan tuning hyperparameter untuk RandomForest\n",
    "grid_rf = GridSearchCV(RandomForestClassifier(), param_rf, cv=5, scoring='accuracy')\n",
    "grid_rf.fit(X_train, y_train)\n",
    "\n",
    "# Prediksi menggunakan model terbaik\n",
    "y_pred_dt = grid_dt.best_estimator_.predict(X_test)\n",
    "y_pred_rf = grid_rf.best_estimator_.predict(X_test)\n",
    "\n",
    "# Evaluasi model\n",
    "print(\"Decision Tree:\")\n",
    "print(\"Akurasi:\", accuracy_score(y_test, y_pred_dt))\n",
    "print(\"Laporan klasifikasi:\")\n",
    "print(classification_report(y_test, y_pred_dt))\n",
    "print(\"Matriks konfusi:\")\n",
    "print(confusion_matrix(y_test, y_pred_dt))\n",
    "\n",
    "print(\"\\nRandom Forest:\")\n",
    "print(\"Akurasi:\", accuracy_score(y_test, y_pred_rf))\n",
    "print(\"Laporan klasifikasi:\")\n",
    "print(classification_report(y_test, y_pred_rf))\n",
    "print(\"Matriks konfusi:\")\n",
    "print(confusion_matrix(y_test, y_pred_rf))"
   ]
  }
 ],
 "metadata": {
  "kernelspec": {
   "display_name": "base",
   "language": "python",
   "name": "python3"
  },
  "language_info": {
   "codemirror_mode": {
    "name": "ipython",
    "version": 3
   },
   "file_extension": ".py",
   "mimetype": "text/x-python",
   "name": "python",
   "nbconvert_exporter": "python",
   "pygments_lexer": "ipython3",
   "version": "3.12.4"
  }
 },
 "nbformat": 4,
 "nbformat_minor": 2
}
